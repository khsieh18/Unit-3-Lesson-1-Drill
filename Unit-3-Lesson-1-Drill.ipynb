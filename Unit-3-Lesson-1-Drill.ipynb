{
 "cells": [
  {
   "cell_type": "code",
   "execution_count": 36,
   "metadata": {},
   "outputs": [
    {
     "name": "stdout",
     "output_type": "stream",
     "text": [
      "mean =  9.857142857142858\n",
      "median =  10.0\n",
      "variance =  6.408163265306122\n",
      "standard deviation =  2.531435020952764\n",
      "standard error =  0.9567925036515135\n",
      "mode = 8\n"
     ]
    }
   ],
   "source": [
    "#Question 1\n",
    "import numpy as np\n",
    "greg = 14\n",
    "marcia = 12\n",
    "peter = 11\n",
    "jan = 10\n",
    "bobby = 8\n",
    "cindy = 6\n",
    "oliver = 8\n",
    "age = [greg, marcia, peter, jan, bobby, cindy, oliver]\n",
    "\n",
    "def get_age(age):\n",
    "    print(\"mean = \", np.mean(age))\n",
    "    print(\"median = \", np.median(age))\n",
    "    print(\"variance = \", np.var(age))\n",
    "    print(\"standard deviation = \", np.std(age))\n",
    "    print(\"standard error = \", np.std(age)/np.sqrt(len(age)))\n",
    "\n",
    "get_age(age)\n",
    "print(\"mode = 8\")"
   ]
  },
  {
   "cell_type": "code",
   "execution_count": 37,
   "metadata": {},
   "outputs": [],
   "source": [
    "#Question 2\n",
    "#I would pick mean and standard deviation."
   ]
  },
  {
   "cell_type": "code",
   "execution_count": 38,
   "metadata": {},
   "outputs": [
    {
     "name": "stdout",
     "output_type": "stream",
     "text": [
      "mean =  10.0\n",
      "median =  10.0\n",
      "variance =  5.428571428571429\n",
      "standard deviation =  2.32992949004287\n",
      "standard error =  0.8806305718527109\n",
      "mode = 8\n"
     ]
    }
   ],
   "source": [
    "#Question 3\n",
    "cindy = 7\n",
    "age = [greg, marcia, peter, jan, bobby, cindy, oliver]\n",
    "get_age(age)\n",
    "print(\"mode = 8\")"
   ]
  },
  {
   "cell_type": "code",
   "execution_count": 39,
   "metadata": {},
   "outputs": [
    {
     "name": "stdout",
     "output_type": "stream",
     "text": [
      "mean =  9.0\n",
      "median =  10.0\n",
      "variance =  15.428571428571429\n",
      "standard deviation =  3.927922024247863\n",
      "standard error =  1.4846149779161806\n",
      "there is no mode\n"
     ]
    }
   ],
   "source": [
    "# Question 4\n",
    "jessica = 1\n",
    "age = [greg, marcia, peter, jan, bobby, cindy, jessica]\n",
    "get_age(age)\n",
    "print(\"there is no mode\")"
   ]
  },
  {
   "cell_type": "code",
   "execution_count": 40,
   "metadata": {},
   "outputs": [],
   "source": [
    "#Question 4\n",
    "#I would choose \"median\" instead of \"mean\" because Jessica has way lower age than the \"mean\" age."
   ]
  },
  {
   "cell_type": "code",
   "execution_count": 41,
   "metadata": {},
   "outputs": [],
   "source": [
    "#Question 5\n",
    "#SciPhi Phanatic has extremely lowwer fan percentage than the rest of the magzines. Hence, it can be taken out of the sample.\n",
    "#We would take the \"mean\" value of the rest three magazine results. \n",
    "#The estimage is (20% + 23% + 17%) / 3 = 20%"
   ]
  }
 ],
 "metadata": {
  "kernelspec": {
   "display_name": "Python 3",
   "language": "python",
   "name": "python3"
  },
  "language_info": {
   "codemirror_mode": {
    "name": "ipython",
    "version": 3
   },
   "file_extension": ".py",
   "mimetype": "text/x-python",
   "name": "python",
   "nbconvert_exporter": "python",
   "pygments_lexer": "ipython3",
   "version": "3.7.0"
  }
 },
 "nbformat": 4,
 "nbformat_minor": 2
}
